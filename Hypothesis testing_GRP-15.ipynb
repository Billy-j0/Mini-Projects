{
 "cells": [
  {
   "cell_type": "markdown",
   "id": "b95ef38c",
   "metadata": {},
   "source": [
    "# Importing libraries and reading dataset"
   ]
  },
  {
   "cell_type": "code",
   "execution_count": 2,
   "id": "cdf86f0b",
   "metadata": {},
   "outputs": [],
   "source": [
    "# Importing libraries\n",
    "\n",
    "from scipy.stats import ttest_1samp\n",
    "from scipy.stats import ttest_ind\n",
    "import numpy as np\n",
    "import pandas as pd\n",
    "import matplotlib.pyplot as plt\n",
    "import seaborn as sns\n",
    "\n",
    "# Reading dataset\n",
    "\n",
    "df = pd.read_csv(r'C:\\Users\\User\\Desktop\\Week_8_Q&A_dataset - Sheet1.csv')"
   ]
  },
  {
   "cell_type": "code",
   "execution_count": 4,
   "id": "42cebea7",
   "metadata": {},
   "outputs": [
    {
     "data": {
      "text/html": [
       "<div>\n",
       "<style scoped>\n",
       "    .dataframe tbody tr th:only-of-type {\n",
       "        vertical-align: middle;\n",
       "    }\n",
       "\n",
       "    .dataframe tbody tr th {\n",
       "        vertical-align: top;\n",
       "    }\n",
       "\n",
       "    .dataframe thead th {\n",
       "        text-align: right;\n",
       "    }\n",
       "</style>\n",
       "<table border=\"1\" class=\"dataframe\">\n",
       "  <thead>\n",
       "    <tr style=\"text-align: right;\">\n",
       "      <th></th>\n",
       "      <th>Gender</th>\n",
       "      <th>Test preparation</th>\n",
       "      <th>Total Marks</th>\n",
       "    </tr>\n",
       "  </thead>\n",
       "  <tbody>\n",
       "    <tr>\n",
       "      <th>0</th>\n",
       "      <td>male</td>\n",
       "      <td>none</td>\n",
       "      <td>14</td>\n",
       "    </tr>\n",
       "    <tr>\n",
       "      <th>1</th>\n",
       "      <td>female</td>\n",
       "      <td>none</td>\n",
       "      <td>28</td>\n",
       "    </tr>\n",
       "    <tr>\n",
       "      <th>2</th>\n",
       "      <td>female</td>\n",
       "      <td>none</td>\n",
       "      <td>18</td>\n",
       "    </tr>\n",
       "    <tr>\n",
       "      <th>3</th>\n",
       "      <td>female</td>\n",
       "      <td>none</td>\n",
       "      <td>48</td>\n",
       "    </tr>\n",
       "    <tr>\n",
       "      <th>4</th>\n",
       "      <td>female</td>\n",
       "      <td>none</td>\n",
       "      <td>21</td>\n",
       "    </tr>\n",
       "  </tbody>\n",
       "</table>\n",
       "</div>"
      ],
      "text/plain": [
       "   Gender Test preparation  Total Marks\n",
       "0    male             none           14\n",
       "1  female             none           28\n",
       "2  female             none           18\n",
       "3  female             none           48\n",
       "4  female             none           21"
      ]
     },
     "execution_count": 4,
     "metadata": {},
     "output_type": "execute_result"
    }
   ],
   "source": [
    "# Displaying first 5 rows\n",
    "\n",
    "df.head()"
   ]
  },
  {
   "cell_type": "code",
   "execution_count": 5,
   "id": "449e4dba",
   "metadata": {
    "scrolled": true
   },
   "outputs": [
    {
     "data": {
      "text/plain": [
       "Gender              0\n",
       "Test preparation    0\n",
       "Total Marks         0\n",
       "dtype: int64"
      ]
     },
     "execution_count": 5,
     "metadata": {},
     "output_type": "execute_result"
    }
   ],
   "source": [
    "#Checking for null values\n",
    "\n",
    "df.isnull().sum()"
   ]
  },
  {
   "cell_type": "markdown",
   "id": "478bcbd0",
   "metadata": {},
   "source": [
    "**Insight : There are no null values**"
   ]
  },
  {
   "cell_type": "code",
   "execution_count": 6,
   "id": "918bdeed",
   "metadata": {
    "scrolled": true
   },
   "outputs": [
    {
     "name": "stdout",
     "output_type": "stream",
     "text": [
      "<class 'pandas.core.frame.DataFrame'>\n",
      "RangeIndex: 28 entries, 0 to 27\n",
      "Data columns (total 3 columns):\n",
      " #   Column            Non-Null Count  Dtype \n",
      "---  ------            --------------  ----- \n",
      " 0   Gender            28 non-null     object\n",
      " 1   Test preparation  28 non-null     object\n",
      " 2   Total Marks       28 non-null     int64 \n",
      "dtypes: int64(1), object(2)\n",
      "memory usage: 800.0+ bytes\n"
     ]
    }
   ],
   "source": [
    "# Summary of dataset\n",
    "\n",
    "df.info()"
   ]
  },
  {
   "cell_type": "markdown",
   "id": "5b440df5",
   "metadata": {},
   "source": [
    "**Insight : There are no missing values and there are 28 rows and 3 columns**"
   ]
  },
  {
   "cell_type": "code",
   "execution_count": 7,
   "id": "3a4579e5",
   "metadata": {},
   "outputs": [
    {
     "data": {
      "text/html": [
       "<div>\n",
       "<style scoped>\n",
       "    .dataframe tbody tr th:only-of-type {\n",
       "        vertical-align: middle;\n",
       "    }\n",
       "\n",
       "    .dataframe tbody tr th {\n",
       "        vertical-align: top;\n",
       "    }\n",
       "\n",
       "    .dataframe thead th {\n",
       "        text-align: right;\n",
       "    }\n",
       "</style>\n",
       "<table border=\"1\" class=\"dataframe\">\n",
       "  <thead>\n",
       "    <tr style=\"text-align: right;\">\n",
       "      <th></th>\n",
       "      <th>Total Marks</th>\n",
       "    </tr>\n",
       "  </thead>\n",
       "  <tbody>\n",
       "    <tr>\n",
       "      <th>count</th>\n",
       "      <td>28.000000</td>\n",
       "    </tr>\n",
       "    <tr>\n",
       "      <th>mean</th>\n",
       "      <td>32.321429</td>\n",
       "    </tr>\n",
       "    <tr>\n",
       "      <th>std</th>\n",
       "      <td>12.454520</td>\n",
       "    </tr>\n",
       "    <tr>\n",
       "      <th>min</th>\n",
       "      <td>12.000000</td>\n",
       "    </tr>\n",
       "    <tr>\n",
       "      <th>25%</th>\n",
       "      <td>22.500000</td>\n",
       "    </tr>\n",
       "    <tr>\n",
       "      <th>50%</th>\n",
       "      <td>33.000000</td>\n",
       "    </tr>\n",
       "    <tr>\n",
       "      <th>75%</th>\n",
       "      <td>43.250000</td>\n",
       "    </tr>\n",
       "    <tr>\n",
       "      <th>max</th>\n",
       "      <td>50.000000</td>\n",
       "    </tr>\n",
       "  </tbody>\n",
       "</table>\n",
       "</div>"
      ],
      "text/plain": [
       "       Total Marks\n",
       "count    28.000000\n",
       "mean     32.321429\n",
       "std      12.454520\n",
       "min      12.000000\n",
       "25%      22.500000\n",
       "50%      33.000000\n",
       "75%      43.250000\n",
       "max      50.000000"
      ]
     },
     "execution_count": 7,
     "metadata": {},
     "output_type": "execute_result"
    }
   ],
   "source": [
    "df.describe()"
   ]
  },
  {
   "cell_type": "code",
   "execution_count": 38,
   "id": "f7472e29",
   "metadata": {
    "scrolled": true
   },
   "outputs": [
    {
     "data": {
      "image/png": "[encoded data removed]",
      "text/plain": [
       "<Figure size 432x288 with 1 Axes>"
      ]
     },
     "metadata": {
      "needs_background": "light"
     },
     "output_type": "display_data"
    }
   ],
   "source": [
    "plt.figure()\n",
    "fig=sns.countplot(x='Gender',data=df,hue='Test preparation')\n",
    "plt.show()"
   ]
  },
  {
   "cell_type": "markdown",
   "id": "eff80584",
   "metadata": {},
   "source": [
    "**Insight : The number of students who are not completed the test preparation is more in bot males and females**"
   ]
  },
  {
   "cell_type": "markdown",
   "id": "e9e713bf",
   "metadata": {},
   "source": [
    "## **To check whether female and male students scored the same marks**"
   ]
  },
  {
   "cell_type": "code",
   "execution_count": 18,
   "id": "32ebb611",
   "metadata": {},
   "outputs": [
    {
     "data": {
      "text/html": [
       "<div>\n",
       "<style scoped>\n",
       "    .dataframe tbody tr th:only-of-type {\n",
       "        vertical-align: middle;\n",
       "    }\n",
       "\n",
       "    .dataframe tbody tr th {\n",
       "        vertical-align: top;\n",
       "    }\n",
       "\n",
       "    .dataframe thead th {\n",
       "        text-align: right;\n",
       "    }\n",
       "</style>\n",
       "<table border=\"1\" class=\"dataframe\">\n",
       "  <thead>\n",
       "    <tr style=\"text-align: right;\">\n",
       "      <th></th>\n",
       "      <th>Total Marks</th>\n",
       "    </tr>\n",
       "    <tr>\n",
       "      <th>Gender</th>\n",
       "      <th></th>\n",
       "    </tr>\n",
       "  </thead>\n",
       "  <tbody>\n",
       "    <tr>\n",
       "      <th>female</th>\n",
       "      <td>33.750000</td>\n",
       "    </tr>\n",
       "    <tr>\n",
       "      <th>male</th>\n",
       "      <td>30.416667</td>\n",
       "    </tr>\n",
       "  </tbody>\n",
       "</table>\n",
       "</div>"
      ],
      "text/plain": [
       "        Total Marks\n",
       "Gender             \n",
       "female    33.750000\n",
       "male      30.416667"
      ]
     },
     "execution_count": 18,
     "metadata": {},
     "output_type": "execute_result"
    }
   ],
   "source": [
    "df.groupby(\"Gender\").mean()"
   ]
  },
  {
   "cell_type": "code",
   "execution_count": 21,
   "id": "a343e75e",
   "metadata": {},
   "outputs": [],
   "source": [
    "group=df.groupby(\"Gender\")\n",
    "m=group.get_group('male')\n",
    "f=group.get_group('female')"
   ]
  },
  {
   "cell_type": "code",
   "execution_count": 24,
   "id": "e6560885",
   "metadata": {},
   "outputs": [
    {
     "data": {
      "text/plain": [
       "(   Gender Test preparation  Total Marks\n",
       " 0    male             none           14\n",
       " 6    male             none           30\n",
       " 8    male             none           18\n",
       " 9    male             none           24\n",
       " 10   male        completed           44\n",
       " 11   male             none           23\n",
       " 12   male        completed           43\n",
       " 13   male             none           28\n",
       " 18   male             none           47\n",
       " 19   male             none           36\n",
       " 20   male             none           14\n",
       " 21   male        completed           44,\n",
       "     Gender Test preparation  Total Marks\n",
       " 1   female             none           28\n",
       " 2   female             none           18\n",
       " 3   female             none           48\n",
       " 4   female             none           21\n",
       " 5   female        completed           40\n",
       " 7   female             none           12\n",
       " 14  female             none           41\n",
       " 15  female             none           13\n",
       " 16  female        completed           48\n",
       " 17  female             none           45\n",
       " 22  female             none           41\n",
       " 23  female             none           27\n",
       " 24  female             none           27\n",
       " 25  female             none           38\n",
       " 26  female        completed           50\n",
       " 27  female        completed           43)"
      ]
     },
     "execution_count": 24,
     "metadata": {},
     "output_type": "execute_result"
    }
   ],
   "source": [
    "m,f"
   ]
  },
  {
   "cell_type": "code",
   "execution_count": 26,
   "id": "09e3c695",
   "metadata": {
    "scrolled": true
   },
   "outputs": [
    {
     "name": "stdout",
     "output_type": "stream",
     "text": [
      "p-value 0.24689111589803814\n",
      "We accept null hypothesis, Mean Score of female students > Mean Score of male students\n"
     ]
    }
   ],
   "source": [
    "# Using t test\n",
    "\n",
    "ttest,pval = ttest_ind(f[\"Total Marks\"],m[\"Total Marks\"],alternative=\"greater\")\n",
    "print(\"p-value\",pval)\n",
    "if pval <0.05:\n",
    "  print(\"We reject null hypothesis, Mean Score of female students <= Mean Score of male students\")\n",
    "else:\n",
    "  print(\"We accept null hypothesis, Mean Score of female students > Mean Score of male students\")"
   ]
  },
  {
   "cell_type": "markdown",
   "id": "caafb768",
   "metadata": {},
   "source": [
    "**Insight : Here we accept null hypothesis because the mean score of female students > mean score of male students**"
   ]
  },
  {
   "cell_type": "markdown",
   "id": "57179904",
   "metadata": {},
   "source": [
    "## **To check whether test preparation helps the students**"
   ]
  },
  {
   "cell_type": "code",
   "execution_count": 27,
   "id": "a86ddfb9",
   "metadata": {},
   "outputs": [
    {
     "data": {
      "text/html": [
       "<div>\n",
       "<style scoped>\n",
       "    .dataframe tbody tr th:only-of-type {\n",
       "        vertical-align: middle;\n",
       "    }\n",
       "\n",
       "    .dataframe tbody tr th {\n",
       "        vertical-align: top;\n",
       "    }\n",
       "\n",
       "    .dataframe thead th {\n",
       "        text-align: right;\n",
       "    }\n",
       "</style>\n",
       "<table border=\"1\" class=\"dataframe\">\n",
       "  <thead>\n",
       "    <tr style=\"text-align: right;\">\n",
       "      <th></th>\n",
       "      <th>Total Marks</th>\n",
       "    </tr>\n",
       "    <tr>\n",
       "      <th>Test preparation</th>\n",
       "      <th></th>\n",
       "    </tr>\n",
       "  </thead>\n",
       "  <tbody>\n",
       "    <tr>\n",
       "      <th>completed</th>\n",
       "      <td>44.571429</td>\n",
       "    </tr>\n",
       "    <tr>\n",
       "      <th>none</th>\n",
       "      <td>28.238095</td>\n",
       "    </tr>\n",
       "  </tbody>\n",
       "</table>\n",
       "</div>"
      ],
      "text/plain": [
       "                  Total Marks\n",
       "Test preparation             \n",
       "completed           44.571429\n",
       "none                28.238095"
      ]
     },
     "execution_count": 27,
     "metadata": {},
     "output_type": "execute_result"
    }
   ],
   "source": [
    "df.groupby('Test preparation').mean()"
   ]
  },
  {
   "cell_type": "code",
   "execution_count": 36,
   "id": "40356642",
   "metadata": {},
   "outputs": [],
   "source": [
    "group=df.groupby(\"Test preparation\")\n",
    "not_compl=group.get_group('none')\n",
    "compl=group.get_group('completed')"
   ]
  },
  {
   "cell_type": "code",
   "execution_count": 37,
   "id": "8ae792b2",
   "metadata": {},
   "outputs": [
    {
     "name": "stdout",
     "output_type": "stream",
     "text": [
      "p-value 0.0006335646228660053\n",
      "We reject null hypothesis, Mean Score of students who completed the test preparation <= Mean Score of students who did not complete the test preparation\n"
     ]
    }
   ],
   "source": [
    "#Using t test\n",
    "\n",
    "ttest,pval = ttest_ind(compl['Total Marks'],not_compl['Total Marks'],alternative='greater')\n",
    "print(\"p-value\",pval)\n",
    "if pval <0.05:\n",
    "  print(\"We reject null hypothesis, Mean Score of students who completed the test preparation <= Mean Score of students who did not complete the test preparation\")\n",
    "else:\n",
    "  print(\"We accept null hypothesis, Mean Score of students who completed the test preparation > Mean Score of students who did not complete the test preparation\")"
   ]
  },
  {
   "cell_type": "markdown",
   "id": "06148eca",
   "metadata": {},
   "source": [
    "**Insight : Here we reject null hypothesis because the mean score of students who completed the test preparation <= mean score of students who did not complete the test preparation**"
   ]
  }
 ],
 "metadata": {
  "kernelspec": {
   "display_name": "Python 3 (ipykernel)",
   "language": "python",
   "name": "python3"
  },
  "language_info": {
   "codemirror_mode": {
    "name": "ipython",
    "version": 3
   },
   "file_extension": ".py",
   "mimetype": "text/x-python",
   "name": "python",
   "nbconvert_exporter": "python",
   "pygments_lexer": "ipython3",
   "version": "3.9.7"
  }
 },
 "nbformat": 4,
 "nbformat_minor": 5
}
